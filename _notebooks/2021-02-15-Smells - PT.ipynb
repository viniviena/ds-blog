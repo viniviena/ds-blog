{
 "cells": [
  {
   "cell_type": "markdown",
   "metadata": {},
   "source": [
    "# \"Treinando computadores para sentir cheiro: como machine learning e a engenharia de processos em sistemas podem ser usadas na indústria de fragrâncias. PARTE 1\"\n",
    "\n",
    "> \"Cheminformatics\"\n",
    "\n",
    "- toc: true\n",
    "- branch: master\n",
    "- badges: true\n",
    "- comments: true\n",
    "- categories: [cheminformatics, perfumes, machine learning]\n",
    "- image: images/robot.png\n",
    "- author: Vinicius Viena"
   ]
  },
  {
   "cell_type": "markdown",
   "metadata": {},
   "source": [
    "## 1)  Perpectiva histórica."
   ]
  },
  {
   "cell_type": "markdown",
   "metadata": {},
   "source": [
    "Nosso sistema olfativo tem uma capacidade notável de distinguir [cerca de 1 trilhão de odores](https://science.sciencemag.org/content/343/6177/1370) :open_mouth:! Normalmente não somos gratos por isso, mas a mãe natureza nos deu um enorme dom. É um produto de centenas de milhares de anos de evolução que nos ajudou a sobreviver em tempos menos prósperos. Isso nos ajudou a encontrar boa comida, e evitar situações perigosas.\n",
    "\n",
    "No entanto, nós, hoje em dia, não precisamos confiar em seus narizes para fins de nutrição. Quando vamos a um mercado, não precisamos cheirar ou provar a comida para coletar informações sobre ela. Todas as informações que precisamos estão na embalagem plástica que envolve os alimentos: calorias, gordura, açúcar, data de validade. \n",
    "\n",
    "**Então, qual o papel do nosso olfato atualmente? Por que a natureza nos deu tamanha sensibilidade olfativa?**\n",
    "Você pode argumentar que você poderia facilmente sobreviver sem o olfato e os outros sentidos são muito mais importantes (visão, audição, degustação), e eu não posso discordar.\n",
    "\n",
    "Podemos não depender do nosso olfato para sobreviver hoje em dia, mas bons cheiros podem ter uma enorme influência em nosso comportamento, e as empresas tiram **real** vantagem  disso ao tentar vender-lhe coisas. Considere um produto simples que é uma parte essencial da nossa vida diária (agora ainda mais durante pandemias de covid): **uma barra de sabão**. Há dezenas de marcas de sabão em um mercado. Todos fazem o trabalho de limpeza muito bem. Você já deve ter testado um monte deles e eu tenho certeza que você terminou de lavar as mãos e não reclamou sobre a capacidade de sabão para remover sujeira. Então, o que guia sua decisão ao comprar uma barra de sabão e outros produtos de cuidado pessoal? \n",
    "\n",
    "Não consigo evitar compartilhar minha experiência: sempre sinto o cheiro do sabão antes de comprá-lo e sempre escolho aquele com o cheiro mais agradável. É um dos únicos produtos do mercado que você pode experimentar antes de comprar e muitas pessoas aproveitam isso. O mesmo é válido para shampoos, desodorantes, cosméticos e assim por diante.\n",
    "\n",
    "Os produtos que mencionei fazem parte do que as pessoas chamam de produtos funcionais perfumados. Eles servem a um determinado propósito (limpeza para sabonetes), mas contêm fragrâncias para melhorar a aceitação do cliente ou mascarar odores desagradáveis. Há também outra classe de produtos perfumados: Perfumes!\n",
    "\n",
    "Ao contrário dos sabonetes, os perfumes não têm outro propósito a não ser o de ser percebido. A palavra perfume vem da frase em latim, \"per\" que significa \"através\" e \"fumus\" que significa \"fumaça\". Os franceses mais tarde deram o nome \"parfum\" aos cheiros produzidos pela queima de incenso. Alguns perfumes são feitos para serem lançados no ar e darem a um espaço confinado uma certa \"personalidade\" olfativa. Da mesma forma, perfumes também são usados por humanos para darem a si mesmos personalidade olfativa - **com fragrâncias!**"
   ]
  },
  {
   "cell_type": "markdown",
   "metadata": {},
   "source": [
    "Eu já vi fragrâncias muito caras em um shopping e sempre me perguntei porque as pessoas estão dispostas a pagar tanto por isso. O fato é que as pessoas valorizam bons cheiros e estão dispostas a pagar até centenas de dólares por alguns mililitros de perfume o que fez da indústria de sabores e fragrâncias um negócio [multibilionário](https://blog.technavio.com/blog/top-10-flavors-and-fragrances-companies-world)!"
   ]
  },
  {
   "cell_type": "markdown",
   "metadata": {},
   "source": [
    "## 2) A química e a biologia dos cheiros."
   ]
  },
  {
   "cell_type": "markdown",
   "metadata": {},
   "source": [
    "Eu venho trabalhando com todas essas coisas no último ano com um grupo de pesquisa muito prestigiado numa área chamada **Engenharia de Perfumes**. [O Laboratório de Separações e Reações Químicas](https://lsre-lcm.fe.up.pt/areas/11) é pioneiro na investigação e desenvolvimento científico no fábrico de perfumes usando engenharia quimica. Com esse trabalho de um ano esclarei muitas questões mas algumas ainda ficaram na minha mente: **o que faz uma molécula cheirar mal ou bem ou ser inodora em vez disso?**\n",
    "\n"
   ]
  },
  {
   "cell_type": "markdown",
   "metadata": {},
   "source": [
    "A primeira coisa que devemos considerar é como o cheiro acontece em nosso corpo. Aqui vou dar uma explicação muito simplificada sobre isso. Quero dizer simples porque uma cientista (Linda Buck)  [Recebeu o prêmio Nobel em 2014](https://www.nobelprize.org/womenwhochangedscience/stories/linda-buck) por sua contribuição no entendimento do nosso sistema olfativo. "
   ]
  },
  {
   "cell_type": "markdown",
   "metadata": {},
   "source": [
    "O olfato é construído pela cooperação entre nosso nariz e nosso cérebro. Quando um componente químico está presente no ar e nós o cheiramos, o produto químico viaja através de nossas narinas e alcança nossas células receptoras olfativas no epitélio nasal. Se alguma das células receptoras for \"receptiva\" a esse produto químico e estiver presente em uma quantidade detectável, enviará um sinal elétrico para nosso cérebro através de nossos neurônios. Esse sinal é então processado pelo nosso cérebro criando a experiência consciente do olfato. Essa foto ilustra esse conceito."
   ]
  },
  {
   "cell_type": "markdown",
   "metadata": {},
   "source": [
    "<img src=\"my_icons/sniff.jpg\" style=\"width: 100px;\"/>"
   ]
  },
  {
   "cell_type": "markdown",
   "metadata": {},
   "source": [
    "Agora temos uma compreensão geral de como cheiramos. Podemos verificar que nosso nariz é responsável apenas pela coleta de moléculas no ar, **mas a experiência real de olfato acontece em nosso cérebro.**\n",
    "\n",
    "É um achado de muito interesse a partir de uma perspectiva biológica, mas há também a perspectiva **química**, ou seja, **a estrutura química de uma molécula dá indícios de suas propriedades de odor?**\n",
    "\n",
    "Vamos considerar as duas moléculas simples: água e etanol. A água é um produto químico inodoro (pelo menos para mim) enquanto o etanol tem um cheiro muito desagradável (pelo menos para a maioria das pessoas que conheço) mesmo em pequenas concentrações. As pistas de por que a água é inodora e o etanol não podem estar escondidas em suas estruturas químicas.\n",
    "\n",
    "Vamos dar uma olhada. Abaixo está uma representação molecular da água e etanol "
   ]
  },
  {
   "cell_type": "code",
   "execution_count": null,
   "metadata": {},
   "outputs": [],
   "source": [
    "#hide_input\n",
    "from rdkit import Chem\n",
    "from rdkit.Chem import AllChem\n",
    "from rdkit.Chem import Draw\n",
    "from rdkit.Chem.Draw import IPythonConsole"
   ]
  },
  {
   "cell_type": "markdown",
   "metadata": {},
   "source": [
    "Water                                                 \n",
    "<img src=\"my_icons/water.jpg\" style=\"width: 120px;\"/> "
   ]
  },
  {
   "cell_type": "markdown",
   "metadata": {},
   "source": [
    "Ethanol\n",
    "<img src=\"my_icons/ethanol.jpg\" style=\"width: 120px;\"/>"
   ]
  },
  {
   "cell_type": "markdown",
   "metadata": {},
   "source": [
    " Eu circulei a parte das moléculas que são diferentes. Como você vê, etanol é água com o hidrogênio substituído por -CH2CH3! Etanol é **CH2CH3**-OH e água é **H**-OH. Essa pequena mudança na estrutura é suficiente para fazer com que o etanol tenha um cheiro desagradável.\n",
    " \n",
    " \n",
    "**Olhando para este exemplo, podemos pensar que poderíamos derivar regras simples como: adicionar um CH2CH3 faz uma molécula ter um cheiro desagradável. Esta é uma grande estratégia e é exatamente o que o campo da quimioinformática tenta - desvendar as regras que regem a relação entre a estrutura molecular e suas propriedades (propriedades do odor em nosso caso)**\n",
    "\n",
    "No entanto, as pessoas que pesquisam isso não o fazem olhando para algumas moléculas e seus descritores. Eles reúnem um enorme banco de dados de moléculas e suas propriedades e configuram algoritmos de computador para descobrir as regras – Essa é uma das maneiras pelas quais o **Machine Learning** pode ser usado para a construção de fragrâncias!"
   ]
  },
  {
   "cell_type": "markdown",
   "metadata": {},
   "source": [
    "## 3) Quimioinformática para fragrâncias."
   ]
  },
  {
   "cell_type": "markdown",
   "metadata": {},
   "source": [
    "Agora vou restringir a parte restante deste post para discutir a relação da estrutura molecular com suas \"propriedades de odor\", especialmente para o caso de produtos químicos usados para formular perfumes."
   ]
  },
  {
   "cell_type": "markdown",
   "metadata": {},
   "source": [
    "Perfumes são uma mistura líquida de componentes químicos projetados para causar uma impressão olfativa desejada quando liberada no ar. Assim, o primeiro passo para criar um perfume é selecionar produtos químicos que \"tenham\" uma característica de odor. Perfumistas (pessoas que fazem perfumes) usam descritores semânticos para classificar ingredientes de perfume. \"Descritores semânticos\" são apenas uma maneira extravagante de dizer \"palavras\". Então, perfumistas usam palavras para classificar ingredientes de perfume. Deixe-me dar-lhe um exemplo que eu tirei [deste website](http://www.thegoodscentscompany.com/) que contém uma lista de centenas de ingredientes de perfume.   "
   ]
  },
  {
   "cell_type": "code",
   "execution_count": null,
   "metadata": {
    "scrolled": true
   },
   "outputs": [],
   "source": [
    "#hide_input\n",
    "#smiles = ['COC(OC)c1ccccc1','CCCC(C)=O']\n",
    "#mols = [Chem.MolFromSmiles(molecule) for molecule in smiles]\n",
    "#for m in mols: tmp=AllChem.Compute2DCoords(m)\n",
    "#AllChem.Compute2DCoords(molecule)S"
   ]
  },
  {
   "cell_type": "code",
   "execution_count": null,
   "metadata": {},
   "outputs": [],
   "source": [
    "#hide_input\n",
    "#img = Draw.MolsToGridImage(mols[:8],molsPerRow=2,subImgSize=(500,500),legends= ['Name: dimethoxymethylbenzene \\n odor:Green, winey, fruity and sharp with a floral nuance ', \n",
    "                                                                                #'Name: pentan-2-one, \\n odor: sweet, fruity, ethereal, wine, banana, woody'],returnPNG=False)    "
   ]
  },
  {
   "cell_type": "code",
   "execution_count": null,
   "metadata": {},
   "outputs": [],
   "source": [
    "#hide_input\n",
    "#img.save('my_icons/odorants.png') "
   ]
  },
  {
   "cell_type": "markdown",
   "metadata": {},
   "source": [
    "<img src=\"my_icons/odorants.png\" style=\"width: 900px;\"/> "
   ]
  },
  {
   "cell_type": "markdown",
   "metadata": {},
   "source": [
    "Como podemos ver, os perfumistas usam palavras como \"Verde\", \"frutado\", \"Etéreo\", \"Vinho\", \"Woody\" e \"Floral\" para descrever ingredientes da fragrância. Pode ser muito desafiador identificar regras apenas olhando para elas e descobrir que parte da estrutura molecular faz com que ela seja descrita como \"Frutada\", por exemplo.\n",
    "\n",
    "Felizmente, existem bancos de dados de acesso livre contendo milhares dessas moléculas e seus descritores de odor. Um dos passos fundamentais nesta jornada é descobrir como representar moléculas com números úteis. Fazendo isso, podemos comparar quão \"semelhantes\" são duas moléculas. Vou ilustrar isso."
   ]
  },
  {
   "cell_type": "markdown",
   "metadata": {},
   "source": [
    "Suponha que descobrimos uma maneira de representar uma molécula com dois números. A tabela abaixo mostra alguns números que criei para ilustrar o conceito. Há 3 moléculas hipotéticas, suas representações numéricas e seus descritores de odor."
   ]
  },
  {
   "cell_type": "markdown",
   "metadata": {},
   "source": [
    "| Molecule id | Dimension 1 | Dimension 2 | Odor descriptor |\n",
    "|:-----------:|:-----------:|:-----------:|:---------------:|\n",
    "|      1      |      1      |      3      |      Fruity     |\n",
    "|      2      |     3.5     |      2      |      Fruity     |\n",
    "|      3      |      4      |      -2     |      Woody      |"
   ]
  },
  {
   "cell_type": "markdown",
   "metadata": {},
   "source": [
    "Se traçarmos cada molécula como vetores em um gráfico e colori-las de acordo com seu descritor, obteríamos algo como você vê abaixo. Você pode observar que os vetores de moléculas com odor \"frutado\" são muito mais próximas uns dos outras do que são da molécula 3 (odor woody). A palavra \"mais perto\" aqui tem um significado matemático, então podemos realmente calcular a distância entre dois desses vetores com teorema de Pitágoras!"
   ]
  },
  {
   "cell_type": "markdown",
   "metadata": {},
   "source": [
    "<img src=\"my_icons/vector.png\" style=\"width: 600px;\"/> "
   ]
  },
  {
   "cell_type": "markdown",
   "metadata": {},
   "source": [
    "O objetivo da tabela e do gráfico é ilustrar o seguinte conceito: **para os números que descrevem as moléculas serem úteis, eles devem fazer moléculas com os mesmos descritores estarem próxima uma da outroa e longe das demais!**"
   ]
  },
  {
   "cell_type": "markdown",
   "metadata": {},
   "source": [
    "## 4) Conclusões."
   ]
  },
  {
   "cell_type": "markdown",
   "metadata": {},
   "source": [
    "Neste post, introduzi como o aprendizado de máquina pode ser usado para encontrar relações úteis entre a estrutura molecular e seus descritores de odor.\n",
    "\n",
    "Na PARTE 2 desta série de posts, mostrarei fluxo de trabalho prático de ciência de dados para a construção de um algoritmo totalmente funcional que pode prever descritores de fragrâncias usando sua estrutura molecular.\n",
    "\n",
    "Na PARTE 3 vou mostrar como a engenharia química pode ser usada para escolher a composição dos ingredientes da fragrância uma vez que já os escolhemos."
   ]
  }
 ],
 "metadata": {
  "kernelspec": {
   "display_name": "Python 3",
   "language": "python",
   "name": "python3"
  },
  "language_info": {
   "codemirror_mode": {
    "name": "ipython",
    "version": 3
   },
   "file_extension": ".py",
   "mimetype": "text/x-python",
   "name": "python",
   "nbconvert_exporter": "python",
   "pygments_lexer": "ipython3",
   "version": "3.7.4"
  },
  "toc": {
   "base_numbering": 1,
   "nav_menu": {},
   "number_sections": true,
   "sideBar": true,
   "skip_h1_title": false,
   "title_cell": "Table of Contents",
   "title_sidebar": "Contents",
   "toc_cell": false,
   "toc_position": {},
   "toc_section_display": true,
   "toc_window_display": false
  }
 },
 "nbformat": 4,
 "nbformat_minor": 4
}

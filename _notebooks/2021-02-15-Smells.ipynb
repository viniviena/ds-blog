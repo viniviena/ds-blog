{
 "cells": [
  {
   "cell_type": "markdown",
   "metadata": {},
   "source": [
    "# Training computers to smell: how machine learning and chemical engineering can be used in the fragrance industry.\"\n",
    "> \"Cheminformatics\"\n",
    "\n",
    "- toc: true\n",
    "- branch: master\n",
    "- badges: true\n",
    "- comments: true\n",
    "- categories: [SQL, business]\n",
    "- hide: false\n",
    "- search_exclude: true\n",
    "- metadata_key1: metadata_value1\n",
    "- metadata_key2: metadata_value2"
   ]
  },
  {
   "cell_type": "markdown",
   "metadata": {},
   "source": [
    "## 1) Historic perpective."
   ]
  },
  {
   "cell_type": "markdown",
   "metadata": {},
   "source": [
    "Our olfactory system have a remarkable capacity to distinguish [about 1 trillion smells](https://science.sciencemag.org/content/343/6177/1370) :scream:! . We are usually not thankful for that, but mother nature have given us an enormous gift. It is a product of hundreds of thousands of years of evolution that helped us to survive in less prosper times. It has helped us to find good food, and avoid dangerous situations.\n",
    "\n",
    "However, the modern human badly rely on their nose for the purpose of nutrition. When we go to a market we dont need to smell or taste the food to gather information about it. All information we need are written the plastic packing which envolve the food we buy: calories, fat, sugar, expiration date. \n",
    "\n",
    ":interrobang:  **So what is the role of our nose for the modern human?** **Is It just for us to lay our glasses on? Or hang piercings? Or for us to complain about its irregular shape when taking selfies?**  \n",
    "You may argue yourself that you could easily survive without your nose and our remaining senses are much more important (vision, hearing, tasting), and I can't disagree. \n",
    "\n",
    "It seems that we do not need our nose for surviviness nowadays, but good smells can have a **huge influence** on our behavior and companies take **real** advantage of that when trying to sell you things :moneybag:. Consider a simple product which is an essential part our daily life (now even more during covid pandemic): **soup**. There are hundreds of soap brands in a regular market. They all do the cleaning job pretty well. You may have tested a lot of them and I'm pretty sure you finished washing your hands and did not complained about the soap capacity to remove dirty. So what do guide your decision when you buy a soap and other self-care products? \n",
    "\n",
    "I cant avoid sharing my experience: I always smell the soap before buying it and I always choose the one with the most pleasant smell :smile:. It is one only products in the market you can experience before buying and a lot of people take advantage of that. The same is valid for shampoos, deodorants, cosmetics and so on.\n",
    "\n",
    "The products I mentioned are part of what people call fragranced functional products. They serve a given purpose (cleaning for shampoos) but contain frangances to either improve customer acceptance or mask an unpleasant odors. There are also another class of frangraced products: **Perfumes!**\n",
    "\n",
    "Unlike shampoos, perfumes have no other purpose than be perceived. The word perfume comes from the Latin phrase, “per” meaning “thorough” and “fumus” meaning “smoke”. The French later gave the name “parfum” to the smells produced by burning incense. Some perfumes are made to be  released in the air and give a confined space a certain olfactory \"personality\". Similarly, perfumes are also used by humans to give themselfs olfactory personality - **with frangances!**\n"
   ]
  },
  {
   "cell_type": "markdown",
   "metadata": {},
   "source": [
    "I have already seen very expensive fragrances in a mall and I always asked myself how can people pay so much just to have that mixture of molecules being released from their skin? The fact is that people are willing to pay hundreds of dollars for a bottle of a perfume which make the flavor and fragance a [multibilion-dollar business](https://blog.technavio.com/blog/top-10-flavors-and-fragrances-companies-world) :money_with_wings: (nothing bad for our apparent useless nose). \n",
    "\n",
    " "
   ]
  },
  {
   "cell_type": "markdown",
   "metadata": {},
   "source": [
    "## 2) Chemistry and biology of smelling"
   ]
  },
  {
   "cell_type": "markdown",
   "metadata": {},
   "source": [
    "I have been thinking and working with all that stuff in the past year (I will detail it later), but only **recently** I have asked my self: **what makes a molecule to have a bad or a good smell or to be odorless instead?**"
   ]
  },
  {
   "cell_type": "markdown",
   "metadata": {},
   "source": [
    "The first thing we should consider is how do we smell. Here I will provide a simplified explanation of it."
   ]
  },
  {
   "cell_type": "markdown",
   "metadata": {},
   "source": [
    "The sense of smelling is built by a cooperation between of our nose and our brain. When a chemical component is present in the air and we sniff it, the chemical travel through our nostrils and reach our nervous cells. If we are sensitive to that chemical and it is present in a detectable amount, it will send an electrical signal through our neurons. That signal is then processed by our brain creating the conscious experience of smelling. Here is a picture I took from the web to summarize it."
   ]
  },
  {
   "cell_type": "markdown",
   "metadata": {},
   "source": [
    "![](images/sniff.jpg \"Credit: https://qbi.uq.edu.au/blog/2018/11/how-do-we-smell-things#:~:text=Whenever%20we%20smell%20something%2C%20our,easier%20to%20smell%20a%20smell.\")"
   ]
  },
  {
   "cell_type": "markdown",
   "metadata": {},
   "source": [
    "Now we have a general understanding of how we smell. We can verify that our nose is only rensponsible for collecting molecules in the air, but the **actual experience of smelling happens in our brain.** \n",
    "\n",
    "It is a very interest finding, but it still does not answer the question \"why certain molecules fire our brain and create a good, bad or even no experience?\" \n",
    "\n",
    "Let's consider the two simple molecules: water and ethanol. Water is a odorless chemical (at least for me) while ethanol has a very unpleasant smell (at least for most people I know) even in small concentrations. The clues of why water is odorless and ethanol is not may be in their chemical structure. \n",
    "\n",
    "Let's check it out. :nerd_face:"
   ]
  },
  {
   "cell_type": "code",
   "execution_count": 1,
   "metadata": {},
   "outputs": [],
   "source": [
    "from rdkit import Chem\n",
    "from rdkit.Chem import AllChem\n",
    "from rdkit.Chem import Draw\n",
    "from rdkit.Chem.Draw import IPythonConsole"
   ]
  },
  {
   "cell_type": "code",
   "execution_count": 2,
   "metadata": {},
   "outputs": [],
   "source": [
    "Draw.IPythonConsole.ipython_3d = True"
   ]
  },
  {
   "cell_type": "code",
   "execution_count": 3,
   "metadata": {},
   "outputs": [
    {
     "data": {
      "application/3dmoljs_load.v0": "<div id=\"3dmolviewer_16134376416021767\"  style=\"position: relative; width: 400px; height: 400px\">\n        <p id=\"3dmolwarning_16134376416021767\" style=\"background-color:#ffcccc;color:black\">You appear to be running in JupyterLab (or JavaScript failed to load for some other reason).  You need to install the 3dmol extension: <br>\n        <tt>jupyter labextension install jupyterlab_3dmol</tt></p>\n        </div>\n<script>\n\nvar loadScriptAsync = function(uri){\n  return new Promise((resolve, reject) => {\n    var tag = document.createElement('script');\n    tag.src = uri;\n    tag.async = true;\n    tag.onload = () => {\n      resolve();\n    };\n  var firstScriptTag = document.getElementsByTagName('script')[0];\n  firstScriptTag.parentNode.insertBefore(tag, firstScriptTag);\n});\n};\n\nif(typeof $3Dmolpromise === 'undefined') {\n$3Dmolpromise = null;\n  $3Dmolpromise = loadScriptAsync('https://3dmol.org/build/3Dmol.js');\n}\n\nvar viewer_16134376416021767 = null;\nvar warn = document.getElementById(\"3dmolwarning_16134376416021767\");\nif(warn) {\n    warn.parentNode.removeChild(warn);\n}\n$3Dmolpromise.then(function() {\nviewer_16134376416021767 = $3Dmol.createViewer($(\"#3dmolviewer_16134376416021767\"),{backgroundColor:\"white\"});\nviewer_16134376416021767.zoomTo();\n\tviewer_16134376416021767.removeAllModels();\n\tviewer_16134376416021767.addModel(\"\\n     RDKit          3D\\n\\n  9  8  0  0  0  0  0  0  0  0999 V2000\\n    1.2783   -0.5036   -0.6138 O   0  0  0  0  0  0  0  0  0  0  0  0\\n    0.4385    0.4496   -0.0160 C   0  0  0  0  0  0  0  0  0  0  0  0\\n   -0.9382   -0.1395    0.0246 C   0  0  0  0  0  0  0  0  0  0  0  0\\n    1.8670   -0.9261    0.0701 H   0  0  0  0  0  0  0  0  0  0  0  0\\n    0.5188    1.3784   -0.5997 H   0  0  0  0  0  0  0  0  0  0  0  0\\n    0.8086    0.6419    1.0182 H   0  0  0  0  0  0  0  0  0  0  0  0\\n   -1.2419   -0.3064    1.0847 H   0  0  0  0  0  0  0  0  0  0  0  0\\n   -1.7155    0.5116   -0.4214 H   0  0  0  0  0  0  0  0  0  0  0  0\\n   -1.0156   -1.1058   -0.5467 H   0  0  0  0  0  0  0  0  0  0  0  0\\n  1  2  1  0\\n  2  3  1  0\\n  1  4  1  0\\n  2  5  1  0\\n  2  6  1  0\\n  3  7  1  0\\n  3  8  1  0\\n  3  9  1  0\\nM  END\\n\",\"sdf\");\n\tviewer_16134376416021767.setStyle({\"stick\": {}});\n\tviewer_16134376416021767.setBackgroundColor(\"0xeeeeee\");\n\tviewer_16134376416021767.zoomTo();\nviewer_16134376416021767.render();\n});\n</script>",
      "text/html": [
       "<div id=\"3dmolviewer_16134376416021767\"  style=\"position: relative; width: 400px; height: 400px\">\n",
       "        <p id=\"3dmolwarning_16134376416021767\" style=\"background-color:#ffcccc;color:black\">You appear to be running in JupyterLab (or JavaScript failed to load for some other reason).  You need to install the 3dmol extension: <br>\n",
       "        <tt>jupyter labextension install jupyterlab_3dmol</tt></p>\n",
       "        </div>\n",
       "<script>\n",
       "\n",
       "var loadScriptAsync = function(uri){\n",
       "  return new Promise((resolve, reject) => {\n",
       "    var tag = document.createElement('script');\n",
       "    tag.src = uri;\n",
       "    tag.async = true;\n",
       "    tag.onload = () => {\n",
       "      resolve();\n",
       "    };\n",
       "  var firstScriptTag = document.getElementsByTagName('script')[0];\n",
       "  firstScriptTag.parentNode.insertBefore(tag, firstScriptTag);\n",
       "});\n",
       "};\n",
       "\n",
       "if(typeof $3Dmolpromise === 'undefined') {\n",
       "$3Dmolpromise = null;\n",
       "  $3Dmolpromise = loadScriptAsync('https://3dmol.org/build/3Dmol.js');\n",
       "}\n",
       "\n",
       "var viewer_16134376416021767 = null;\n",
       "var warn = document.getElementById(\"3dmolwarning_16134376416021767\");\n",
       "if(warn) {\n",
       "    warn.parentNode.removeChild(warn);\n",
       "}\n",
       "$3Dmolpromise.then(function() {\n",
       "viewer_16134376416021767 = $3Dmol.createViewer($(\"#3dmolviewer_16134376416021767\"),{backgroundColor:\"white\"});\n",
       "viewer_16134376416021767.zoomTo();\n",
       "\tviewer_16134376416021767.removeAllModels();\n",
       "\tviewer_16134376416021767.addModel(\"\\n     RDKit          3D\\n\\n  9  8  0  0  0  0  0  0  0  0999 V2000\\n    1.2783   -0.5036   -0.6138 O   0  0  0  0  0  0  0  0  0  0  0  0\\n    0.4385    0.4496   -0.0160 C   0  0  0  0  0  0  0  0  0  0  0  0\\n   -0.9382   -0.1395    0.0246 C   0  0  0  0  0  0  0  0  0  0  0  0\\n    1.8670   -0.9261    0.0701 H   0  0  0  0  0  0  0  0  0  0  0  0\\n    0.5188    1.3784   -0.5997 H   0  0  0  0  0  0  0  0  0  0  0  0\\n    0.8086    0.6419    1.0182 H   0  0  0  0  0  0  0  0  0  0  0  0\\n   -1.2419   -0.3064    1.0847 H   0  0  0  0  0  0  0  0  0  0  0  0\\n   -1.7155    0.5116   -0.4214 H   0  0  0  0  0  0  0  0  0  0  0  0\\n   -1.0156   -1.1058   -0.5467 H   0  0  0  0  0  0  0  0  0  0  0  0\\n  1  2  1  0\\n  2  3  1  0\\n  1  4  1  0\\n  2  5  1  0\\n  2  6  1  0\\n  3  7  1  0\\n  3  8  1  0\\n  3  9  1  0\\nM  END\\n\",\"sdf\");\n",
       "\tviewer_16134376416021767.setStyle({\"stick\": {}});\n",
       "\tviewer_16134376416021767.setBackgroundColor(\"0xeeeeee\");\n",
       "\tviewer_16134376416021767.zoomTo();\n",
       "viewer_16134376416021767.render();\n",
       "});\n",
       "</script>"
      ]
     },
     "metadata": {},
     "output_type": "display_data"
    },
    {
     "data": {
      "image/png": "[encoded data removed]",
      "text/html": [],
      "text/plain": [
       "<rdkit.Chem.rdchem.Mol at 0x16fd0964170>"
      ]
     },
     "execution_count": 3,
     "metadata": {},
     "output_type": "execute_result"
    }
   ],
   "source": [
    "ethanol = Chem.MolFromSmiles('OCC')\n",
    "ethanol2=Chem.AddHs(ethanol)\n",
    "AllChem.EmbedMolecule(ethanol2)\n",
    "ethanol2"
   ]
  },
  {
   "cell_type": "code",
   "execution_count": 4,
   "metadata": {},
   "outputs": [
    {
     "data": {
      "application/3dmoljs_load.v0": "<div id=\"3dmolviewer_1613437641710886\"  style=\"position: relative; width: 400px; height: 400px\">\n        <p id=\"3dmolwarning_1613437641710886\" style=\"background-color:#ffcccc;color:black\">You appear to be running in JupyterLab (or JavaScript failed to load for some other reason).  You need to install the 3dmol extension: <br>\n        <tt>jupyter labextension install jupyterlab_3dmol</tt></p>\n        </div>\n<script>\n\nvar loadScriptAsync = function(uri){\n  return new Promise((resolve, reject) => {\n    var tag = document.createElement('script');\n    tag.src = uri;\n    tag.async = true;\n    tag.onload = () => {\n      resolve();\n    };\n  var firstScriptTag = document.getElementsByTagName('script')[0];\n  firstScriptTag.parentNode.insertBefore(tag, firstScriptTag);\n});\n};\n\nif(typeof $3Dmolpromise === 'undefined') {\n$3Dmolpromise = null;\n  $3Dmolpromise = loadScriptAsync('https://3dmol.org/build/3Dmol.js');\n}\n\nvar viewer_1613437641710886 = null;\nvar warn = document.getElementById(\"3dmolwarning_1613437641710886\");\nif(warn) {\n    warn.parentNode.removeChild(warn);\n}\n$3Dmolpromise.then(function() {\nviewer_1613437641710886 = $3Dmol.createViewer($(\"#3dmolviewer_1613437641710886\"),{backgroundColor:\"white\"});\nviewer_1613437641710886.zoomTo();\n\tviewer_1613437641710886.removeAllModels();\n\tviewer_1613437641710886.addModel(\"\\n     RDKit          3D\\n\\n  3  2  0  0  0  0  0  0  0  0999 V2000\\n   -0.0008    0.3758   -0.0000 O   0  0  0  0  0  0  0  0  0  0  0  0\\n    0.8243   -0.1876    0.0000 H   0  0  0  0  0  0  0  0  0  0  0  0\\n   -0.8235   -0.1881   -0.0000 H   0  0  0  0  0  0  0  0  0  0  0  0\\n  1  2  1  0\\n  1  3  1  0\\nM  END\\n\",\"sdf\");\n\tviewer_1613437641710886.setStyle({\"stick\": {}});\n\tviewer_1613437641710886.setBackgroundColor(\"0xeeeeee\");\n\tviewer_1613437641710886.zoomTo();\nviewer_1613437641710886.render();\n});\n</script>",
      "text/html": [
       "<div id=\"3dmolviewer_1613437641710886\"  style=\"position: relative; width: 400px; height: 400px\">\n",
       "        <p id=\"3dmolwarning_1613437641710886\" style=\"background-color:#ffcccc;color:black\">You appear to be running in JupyterLab (or JavaScript failed to load for some other reason).  You need to install the 3dmol extension: <br>\n",
       "        <tt>jupyter labextension install jupyterlab_3dmol</tt></p>\n",
       "        </div>\n",
       "<script>\n",
       "\n",
       "var loadScriptAsync = function(uri){\n",
       "  return new Promise((resolve, reject) => {\n",
       "    var tag = document.createElement('script');\n",
       "    tag.src = uri;\n",
       "    tag.async = true;\n",
       "    tag.onload = () => {\n",
       "      resolve();\n",
       "    };\n",
       "  var firstScriptTag = document.getElementsByTagName('script')[0];\n",
       "  firstScriptTag.parentNode.insertBefore(tag, firstScriptTag);\n",
       "});\n",
       "};\n",
       "\n",
       "if(typeof $3Dmolpromise === 'undefined') {\n",
       "$3Dmolpromise = null;\n",
       "  $3Dmolpromise = loadScriptAsync('https://3dmol.org/build/3Dmol.js');\n",
       "}\n",
       "\n",
       "var viewer_1613437641710886 = null;\n",
       "var warn = document.getElementById(\"3dmolwarning_1613437641710886\");\n",
       "if(warn) {\n",
       "    warn.parentNode.removeChild(warn);\n",
       "}\n",
       "$3Dmolpromise.then(function() {\n",
       "viewer_1613437641710886 = $3Dmol.createViewer($(\"#3dmolviewer_1613437641710886\"),{backgroundColor:\"white\"});\n",
       "viewer_1613437641710886.zoomTo();\n",
       "\tviewer_1613437641710886.removeAllModels();\n",
       "\tviewer_1613437641710886.addModel(\"\\n     RDKit          3D\\n\\n  3  2  0  0  0  0  0  0  0  0999 V2000\\n   -0.0008    0.3758   -0.0000 O   0  0  0  0  0  0  0  0  0  0  0  0\\n    0.8243   -0.1876    0.0000 H   0  0  0  0  0  0  0  0  0  0  0  0\\n   -0.8235   -0.1881   -0.0000 H   0  0  0  0  0  0  0  0  0  0  0  0\\n  1  2  1  0\\n  1  3  1  0\\nM  END\\n\",\"sdf\");\n",
       "\tviewer_1613437641710886.setStyle({\"stick\": {}});\n",
       "\tviewer_1613437641710886.setBackgroundColor(\"0xeeeeee\");\n",
       "\tviewer_1613437641710886.zoomTo();\n",
       "viewer_1613437641710886.render();\n",
       "});\n",
       "</script>"
      ]
     },
     "metadata": {},
     "output_type": "display_data"
    },
    {
     "data": {
      "image/png": "[encoded data removed]",
      "text/html": [],
      "text/plain": [
       "<rdkit.Chem.rdchem.Mol at 0x16fd096f6c0>"
      ]
     },
     "execution_count": 4,
     "metadata": {},
     "output_type": "execute_result"
    }
   ],
   "source": [
    "water = Chem.MolFromSmiles('O')\n",
    "water =Chem.AddHs(water)\n",
    "AllChem.EmbedMolecule(water)\n",
    "water"
   ]
  }
 ],
 "metadata": {
  "kernelspec": {
   "display_name": "Python 3",
   "language": "python",
   "name": "python3"
  },
  "language_info": {
   "codemirror_mode": {
    "name": "ipython",
    "version": 3
   },
   "file_extension": ".py",
   "mimetype": "text/x-python",
   "name": "python",
   "nbconvert_exporter": "python",
   "pygments_lexer": "ipython3",
   "version": "3.7.4"
  },
  "toc": {
   "base_numbering": 1,
   "nav_menu": {},
   "number_sections": true,
   "sideBar": true,
   "skip_h1_title": false,
   "title_cell": "Table of Contents",
   "title_sidebar": "Contents",
   "toc_cell": false,
   "toc_position": {},
   "toc_section_display": true,
   "toc_window_display": false
  }
 },
 "nbformat": 4,
 "nbformat_minor": 4
}

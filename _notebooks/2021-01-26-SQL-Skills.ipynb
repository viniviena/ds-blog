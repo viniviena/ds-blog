{
 "cells": [
  {
   "cell_type": "markdown",
   "metadata": {},
   "source": [
    "# \"Answer Business Questions with Data Science - SQL case study\"\n",
    "> \"Using SQLite\"\n",
    "\n",
    "- toc: true\n",
    "- branch: master\n",
    "- badges: true\n",
    "- comments: true\n",
    "- categories: [SQL, business]\n",
    "- image: images/SQL.png\n",
    "- hide: false\n",
    "- search_exclude: true\n",
    "- metadata_key1: metadata_value1\n",
    "- metadata_key2: metadata_value2"
   ]
  },
  {
   "cell_type": "markdown",
   "metadata": {},
   "source": [
    "# 1. Introduction"
   ]
  },
  {
   "cell_type": "markdown",
   "metadata": {},
   "source": [
    "## 1.1. Problem Definition"
   ]
  },
  {
   "cell_type": "markdown",
   "metadata": {},
   "source": [
    "One of the most often ignored part of any data science project is defining which problem your code implementation is trying to solve. In engineering college I was trained to solve problems which were already framed for me – my task was just using a set of constrained manipulations to find the variable that was missing.  \n",
    "\n",
    "In real life, problems does not appear in such organized manner. They are generally a fuzzy collection of useful and useless information on which we need to reflect upon and include what is important and exclude what is not.\n",
    "\n",
    "Here, I will define the term **problem** as an offset between a *present state* and a *desired state*. What we do to go from a current to a desired state is the problem solution! The technology employed to solve the problem may vary depending on how you frame it and which solution path you choose. \n",
    "\n",
    "Next I will provide the context for the problem we will solve and derive a simple statement from it (simple subject + action verb + object). Than we can go from a broad description to a statement with a call for action:\n"
   ]
  },
  {
   "cell_type": "markdown",
   "metadata": {},
   "source": [
    "**Context:** Suppose you are working on a digital media record store that sells tracks and entire albuns of several artists and music genres across several countries of the world. Supposing the record stores has made a deal with a record label. They claim that they have **FOUR INCREDIBLE ALBUNS** that will make a huge success in the **USA** and want to advertise them. However, we can only include three of them in the Store. These albuns are from four distinct genres which are already found in several tracks in our digital store - **'Hip Hop/Rap','Alternative & Punk','Pop','Blues'**\n",
    "\n",
    "**Problem statement:** Select 3 out of 4 possible albuns to include in the digital store."
   ]
  },
  {
   "cell_type": "markdown",
   "metadata": {},
   "source": [
    "## 1.2. Solution Strategy"
   ]
  },
  {
   "cell_type": "markdown",
   "metadata": {},
   "source": [
    "As you may noticed, there are several ways I can select 3 out of 4 albuns – each will recquire a certain amount of resources (time, technology). Let's assess them in this terms:\n",
    "\n",
    "1.  Write the genres on pieces of paper, put them in a box, and draw 3 of them randomly - **Resources: low, Results: Probably poor**. \n",
    "\n",
    "2.  Try assigning a meaningful metric to each possible triplet of albuns and maximize/minimize it. **Resources: medium, Results: ok**.\n",
    "\n",
    "Here I will choose the 2nd option since Data Science is about answering questions based on data and not lucky! Hopefully, this approach is better than pure chance. "
   ]
  },
  {
   "cell_type": "markdown",
   "metadata": {},
   "source": [
    "### The Data Base"
   ]
  },
  {
   "cell_type": "markdown",
   "metadata": {},
   "source": [
    "The data base used is this analysis is the [Chinook](https://github.com/lerocha/chinook-database/blob/master/README.md) data model which represents a digital media store, including tables for artists, albums, media tracks, invoices and customers. A copy of the database schema is displayed below."
   ]
  },
  {
   "cell_type": "markdown",
   "metadata": {},
   "source": [
    "![chinook](https://raw.githubusercontent.com/viniviena/repositoryname/master/Chinook.png)"
   ]
  },
  {
   "cell_type": "markdown",
   "metadata": {},
   "source": [
    "To implement the 2nd option we need a metric to assign for each triplet. In the database, we have few information we can use. Basically we want our choice to maximize the chance that the selected albuns will be sold as much as the ones we already have in our store. There are two words to pay attention: **\"chance\"** and **\"will be sold\"**. \n",
    "\n",
    "Chances triggers my mind to probability and counting - maybe using genre popularity is a way. About the the verb form \"will be sold\". It is too vague - when we talk about the future it is desirable to set a time frame (1 one month, pi years, 3.74 years).\n",
    "\n",
    "As you may noticed, the database schema does not provide any time-related information about the invoices, albuns or artists. This could be valuable for deciding if something will be succesful in a near future. Even so, we can still use available information to guide our decision.  \n",
    "\n",
    "If you notice, only one attribute of this new album was provided - their genre. We know that music has much more attributes than its genre - I know several artists that play songs from the same genre but sounds quite different. Even so, lets use what we have."
   ]
  },
  {
   "cell_type": "markdown",
   "metadata": {},
   "source": [
    "One approach to solve this problem is collecting information about the **popularity** or **total sales** of those genres in our store and pick the triplet which has the highest popularity.\n",
    "\n",
    "This may seem a little biased since popularity vary over time and by lumping everything we can draw bad conclusions. However, this is the information we have at hand. **Here I'll use the total sales since it is correlated with popularity but it is easier to interpret and it is what guide any company (profit)** \n"
   ]
  },
  {
   "cell_type": "markdown",
   "metadata": {},
   "source": [
    "**Finally, we will choose 3 albuns for which the sum of total sales is maximized.**"
   ]
  },
  {
   "cell_type": "markdown",
   "metadata": {},
   "source": [
    "# 2. Solution implementation"
   ]
  },
  {
   "cell_type": "markdown",
   "metadata": {},
   "source": [
    "## 2.1. Importing modules"
   ]
  },
  {
   "cell_type": "code",
   "execution_count": 1,
   "metadata": {
    "collapsed": false,
    "jupyter": {
     "outputs_hidden": false
    }
   },
   "outputs": [],
   "source": [
    "#collapse-hide\n",
    "%matplotlib inline\n",
    "import pandas as pd\n",
    "import sqlite3 as sql\n",
    "import matplotlib.pyplot as plt"
   ]
  },
  {
   "cell_type": "markdown",
   "metadata": {},
   "source": [
    "## 2.2. Creating support functions"
   ]
  },
  {
   "cell_type": "markdown",
   "metadata": {},
   "source": [
    "1. `run_query()` - takes a SQL query as argument and returns a panda dataframe contaning the correspondent data.\n",
    "\n",
    "2. `run_command()` - takes a SQL command and execute using sqlite module.\n",
    "\n",
    "3. `show_tables()` - Function that calls run_query() function to return a list of all tables and views in the database."
   ]
  },
  {
   "cell_type": "code",
   "execution_count": 2,
   "metadata": {
    "collapsed": false,
    "jupyter": {
     "outputs_hidden": false
    }
   },
   "outputs": [],
   "source": [
    "#collapse-hide\n",
    "# Function 1 runquery\n",
    "def run_query(q):\n",
    "    with sql.connect('chinook.db') as conn:\n",
    "        return pd.read_sql(q,conn)\n",
    "    \n",
    "#Function 2 run_command    \n",
    "def run_command(c):\n",
    "    with sql.connect('chinook.db') as conn:\n",
    "        conn.isolation_level = None\n",
    "        conn.execute(c)\n",
    "        \n",
    "#Function 3 show_tables\n",
    "\n",
    "def show_tables():\n",
    "    q = '''\n",
    "    SELECT\n",
    "        name,\n",
    "        type\n",
    "    FROM sqlite_master\n",
    "    WHERE type IN (\"table\",\"view\");\n",
    "    '''\n",
    "    return run_query(q)"
   ]
  },
  {
   "cell_type": "code",
   "execution_count": 3,
   "metadata": {
    "collapsed": false,
    "jupyter": {
     "outputs_hidden": false
    }
   },
   "outputs": [
    {
     "data": {
      "text/html": [
       "<div>\n",
       "<style scoped>\n",
       "    .dataframe tbody tr th:only-of-type {\n",
       "        vertical-align: middle;\n",
       "    }\n",
       "\n",
       "    .dataframe tbody tr th {\n",
       "        vertical-align: top;\n",
       "    }\n",
       "\n",
       "    .dataframe thead th {\n",
       "        text-align: right;\n",
       "    }\n",
       "</style>\n",
       "<table border=\"1\" class=\"dataframe\">\n",
       "  <thead>\n",
       "    <tr style=\"text-align: right;\">\n",
       "      <th></th>\n",
       "      <th>name</th>\n",
       "      <th>type</th>\n",
       "    </tr>\n",
       "  </thead>\n",
       "  <tbody>\n",
       "    <tr>\n",
       "      <th>0</th>\n",
       "      <td>album</td>\n",
       "      <td>table</td>\n",
       "    </tr>\n",
       "    <tr>\n",
       "      <th>1</th>\n",
       "      <td>artist</td>\n",
       "      <td>table</td>\n",
       "    </tr>\n",
       "    <tr>\n",
       "      <th>2</th>\n",
       "      <td>customer</td>\n",
       "      <td>table</td>\n",
       "    </tr>\n",
       "    <tr>\n",
       "      <th>3</th>\n",
       "      <td>employee</td>\n",
       "      <td>table</td>\n",
       "    </tr>\n",
       "    <tr>\n",
       "      <th>4</th>\n",
       "      <td>genre</td>\n",
       "      <td>table</td>\n",
       "    </tr>\n",
       "    <tr>\n",
       "      <th>5</th>\n",
       "      <td>invoice</td>\n",
       "      <td>table</td>\n",
       "    </tr>\n",
       "    <tr>\n",
       "      <th>6</th>\n",
       "      <td>invoice_line</td>\n",
       "      <td>table</td>\n",
       "    </tr>\n",
       "    <tr>\n",
       "      <th>7</th>\n",
       "      <td>media_type</td>\n",
       "      <td>table</td>\n",
       "    </tr>\n",
       "    <tr>\n",
       "      <th>8</th>\n",
       "      <td>playlist</td>\n",
       "      <td>table</td>\n",
       "    </tr>\n",
       "    <tr>\n",
       "      <th>9</th>\n",
       "      <td>playlist_track</td>\n",
       "      <td>table</td>\n",
       "    </tr>\n",
       "    <tr>\n",
       "      <th>10</th>\n",
       "      <td>track</td>\n",
       "      <td>table</td>\n",
       "    </tr>\n",
       "  </tbody>\n",
       "</table>\n",
       "</div>"
      ],
      "text/plain": [
       "              name   type\n",
       "0            album  table\n",
       "1           artist  table\n",
       "2         customer  table\n",
       "3         employee  table\n",
       "4            genre  table\n",
       "5          invoice  table\n",
       "6     invoice_line  table\n",
       "7       media_type  table\n",
       "8         playlist  table\n",
       "9   playlist_track  table\n",
       "10           track  table"
      ]
     },
     "execution_count": 3,
     "metadata": {},
     "output_type": "execute_result"
    }
   ],
   "source": [
    "show_tables()"
   ]
  },
  {
   "cell_type": "markdown",
   "metadata": {},
   "source": [
    "In order to answer which three albuns include in the Store, we can create three queries:"
   ]
  },
  {
   "cell_type": "markdown",
   "metadata": {},
   "source": [
    "* The **first subquery** join the *invoice, invoice_inline and customer* tables considering only customers from USA and return the `total` and `track_id` columns. \n",
    "\n",
    "\n",
    "* The **second subquery** join the *track* table with the *genre* table considering only the genres HIP-HOP,PUNK,POP and BLUES. it return `track_id` and `genre_name` columns. \n",
    "\n",
    "\n",
    "* The final query join the two queries and apply the `SUM()` operator in the total_USA column from subquery 1 and group by genre_name."
   ]
  },
  {
   "cell_type": "code",
   "execution_count": 4,
   "metadata": {
    "collapsed": false,
    "jupyter": {
     "outputs_hidden": false
    },
    "scrolled": true
   },
   "outputs": [
    {
     "name": "stdout",
     "output_type": "stream",
     "text": [
      "The first ten rows of subquery 1 are\n"
     ]
    },
    {
     "data": {
      "text/html": [
       "<div>\n",
       "<style scoped>\n",
       "    .dataframe tbody tr th:only-of-type {\n",
       "        vertical-align: middle;\n",
       "    }\n",
       "\n",
       "    .dataframe tbody tr th {\n",
       "        vertical-align: top;\n",
       "    }\n",
       "\n",
       "    .dataframe thead th {\n",
       "        text-align: right;\n",
       "    }\n",
       "</style>\n",
       "<table border=\"1\" class=\"dataframe\">\n",
       "  <thead>\n",
       "    <tr style=\"text-align: right;\">\n",
       "      <th></th>\n",
       "      <th>track_id</th>\n",
       "      <th>total_USA</th>\n",
       "    </tr>\n",
       "  </thead>\n",
       "  <tbody>\n",
       "    <tr>\n",
       "      <th>0</th>\n",
       "      <td>1435</td>\n",
       "      <td>6.93</td>\n",
       "    </tr>\n",
       "    <tr>\n",
       "      <th>1</th>\n",
       "      <td>1761</td>\n",
       "      <td>6.93</td>\n",
       "    </tr>\n",
       "    <tr>\n",
       "      <th>2</th>\n",
       "      <td>3377</td>\n",
       "      <td>6.93</td>\n",
       "    </tr>\n",
       "    <tr>\n",
       "      <th>3</th>\n",
       "      <td>1785</td>\n",
       "      <td>6.93</td>\n",
       "    </tr>\n",
       "    <tr>\n",
       "      <th>4</th>\n",
       "      <td>442</td>\n",
       "      <td>6.93</td>\n",
       "    </tr>\n",
       "    <tr>\n",
       "      <th>5</th>\n",
       "      <td>1951</td>\n",
       "      <td>6.93</td>\n",
       "    </tr>\n",
       "    <tr>\n",
       "      <th>6</th>\n",
       "      <td>2334</td>\n",
       "      <td>6.93</td>\n",
       "    </tr>\n",
       "    <tr>\n",
       "      <th>7</th>\n",
       "      <td>22</td>\n",
       "      <td>3.96</td>\n",
       "    </tr>\n",
       "    <tr>\n",
       "      <th>8</th>\n",
       "      <td>1488</td>\n",
       "      <td>3.96</td>\n",
       "    </tr>\n",
       "    <tr>\n",
       "      <th>9</th>\n",
       "      <td>1977</td>\n",
       "      <td>3.96</td>\n",
       "    </tr>\n",
       "  </tbody>\n",
       "</table>\n",
       "</div>"
      ],
      "text/plain": [
       "   track_id  total_USA\n",
       "0      1435       6.93\n",
       "1      1761       6.93\n",
       "2      3377       6.93\n",
       "3      1785       6.93\n",
       "4       442       6.93\n",
       "5      1951       6.93\n",
       "6      2334       6.93\n",
       "7        22       3.96\n",
       "8      1488       3.96\n",
       "9      1977       3.96"
      ]
     },
     "execution_count": 4,
     "metadata": {},
     "output_type": "execute_result"
    }
   ],
   "source": [
    "#Testing subqueries\n",
    "#SQ1\n",
    "sq1 = '''SELECT\n",
    "            invl.track_id track_id,\n",
    "            inv.total total_USA\n",
    "            FROM customer c\n",
    "            LEFT JOIN invoice inv ON c.customer_id = inv.customer_id\n",
    "            LEFT JOIN invoice_line invl ON invl.invoice_id = inv.invoice_id\n",
    "            WHERE c.country = \"USA\"\n",
    "'''\n",
    "print('The first ten rows of subquery 1 are')\n",
    "table_q1 = run_query(sq1)\n",
    "run_query(sq1).head(10)"
   ]
  },
  {
   "cell_type": "code",
   "execution_count": 5,
   "metadata": {
    "collapsed": false,
    "jupyter": {
     "outputs_hidden": false
    }
   },
   "outputs": [],
   "source": [
    "#calculating the sum of total invoices in the USA for all genres\n",
    "sum_total = table_q1['total_USA'].sum()"
   ]
  },
  {
   "cell_type": "code",
   "execution_count": 6,
   "metadata": {
    "collapsed": false,
    "jupyter": {
     "outputs_hidden": false
    }
   },
   "outputs": [
    {
     "name": "stdout",
     "output_type": "stream",
     "text": [
      "the first 10 rows of subquery 2 are:\n"
     ]
    },
    {
     "data": {
      "text/html": [
       "<div>\n",
       "<style scoped>\n",
       "    .dataframe tbody tr th:only-of-type {\n",
       "        vertical-align: middle;\n",
       "    }\n",
       "\n",
       "    .dataframe tbody tr th {\n",
       "        vertical-align: top;\n",
       "    }\n",
       "\n",
       "    .dataframe thead th {\n",
       "        text-align: right;\n",
       "    }\n",
       "</style>\n",
       "<table border=\"1\" class=\"dataframe\">\n",
       "  <thead>\n",
       "    <tr style=\"text-align: right;\">\n",
       "      <th></th>\n",
       "      <th>track_id</th>\n",
       "      <th>genre_name</th>\n",
       "    </tr>\n",
       "  </thead>\n",
       "  <tbody>\n",
       "    <tr>\n",
       "      <th>0</th>\n",
       "      <td>99</td>\n",
       "      <td>Alternative &amp; Punk</td>\n",
       "    </tr>\n",
       "    <tr>\n",
       "      <th>1</th>\n",
       "      <td>100</td>\n",
       "      <td>Alternative &amp; Punk</td>\n",
       "    </tr>\n",
       "    <tr>\n",
       "      <th>2</th>\n",
       "      <td>101</td>\n",
       "      <td>Alternative &amp; Punk</td>\n",
       "    </tr>\n",
       "    <tr>\n",
       "      <th>3</th>\n",
       "      <td>102</td>\n",
       "      <td>Alternative &amp; Punk</td>\n",
       "    </tr>\n",
       "    <tr>\n",
       "      <th>4</th>\n",
       "      <td>103</td>\n",
       "      <td>Alternative &amp; Punk</td>\n",
       "    </tr>\n",
       "    <tr>\n",
       "      <th>5</th>\n",
       "      <td>104</td>\n",
       "      <td>Alternative &amp; Punk</td>\n",
       "    </tr>\n",
       "    <tr>\n",
       "      <th>6</th>\n",
       "      <td>105</td>\n",
       "      <td>Alternative &amp; Punk</td>\n",
       "    </tr>\n",
       "    <tr>\n",
       "      <th>7</th>\n",
       "      <td>106</td>\n",
       "      <td>Alternative &amp; Punk</td>\n",
       "    </tr>\n",
       "    <tr>\n",
       "      <th>8</th>\n",
       "      <td>107</td>\n",
       "      <td>Alternative &amp; Punk</td>\n",
       "    </tr>\n",
       "    <tr>\n",
       "      <th>9</th>\n",
       "      <td>108</td>\n",
       "      <td>Alternative &amp; Punk</td>\n",
       "    </tr>\n",
       "  </tbody>\n",
       "</table>\n",
       "</div>"
      ],
      "text/plain": [
       "   track_id          genre_name\n",
       "0        99  Alternative & Punk\n",
       "1       100  Alternative & Punk\n",
       "2       101  Alternative & Punk\n",
       "3       102  Alternative & Punk\n",
       "4       103  Alternative & Punk\n",
       "5       104  Alternative & Punk\n",
       "6       105  Alternative & Punk\n",
       "7       106  Alternative & Punk\n",
       "8       107  Alternative & Punk\n",
       "9       108  Alternative & Punk"
      ]
     },
     "execution_count": 6,
     "metadata": {},
     "output_type": "execute_result"
    }
   ],
   "source": [
    "#Testing Subqueries\n",
    "#SQ2\n",
    "sq2= '''    SELECT \n",
    "               t.track_id,\n",
    "               g.name genre_name\n",
    "               FROM genre g\n",
    "               LEFT JOIN track t ON t.genre_id = g.genre_id\n",
    "               WHERE genre_name IN ('Hip Hop/Rap','Alternative & Punk','Pop','Blues')\n",
    "\n",
    "'''\n",
    "print('the first 10 rows of subquery 2 are:')\n",
    "run_query(sq2).head(10)"
   ]
  },
  {
   "cell_type": "code",
   "execution_count": 7,
   "metadata": {
    "collapsed": false,
    "jupyter": {
     "outputs_hidden": false
    }
   },
   "outputs": [
    {
     "name": "stdout",
     "output_type": "stream",
     "text": [
      "the final query table is:\n"
     ]
    },
    {
     "data": {
      "text/html": [
       "<div>\n",
       "<style scoped>\n",
       "    .dataframe tbody tr th:only-of-type {\n",
       "        vertical-align: middle;\n",
       "    }\n",
       "\n",
       "    .dataframe tbody tr th {\n",
       "        vertical-align: top;\n",
       "    }\n",
       "\n",
       "    .dataframe thead th {\n",
       "        text-align: right;\n",
       "    }\n",
       "</style>\n",
       "<table border=\"1\" class=\"dataframe\">\n",
       "  <thead>\n",
       "    <tr style=\"text-align: right;\">\n",
       "      <th></th>\n",
       "      <th>track_id</th>\n",
       "      <th>genre_name</th>\n",
       "      <th>total</th>\n",
       "    </tr>\n",
       "  </thead>\n",
       "  <tbody>\n",
       "    <tr>\n",
       "      <th>0</th>\n",
       "      <td>2327</td>\n",
       "      <td>Alternative &amp; Punk</td>\n",
       "      <td>1234.53</td>\n",
       "    </tr>\n",
       "    <tr>\n",
       "      <th>1</th>\n",
       "      <td>896</td>\n",
       "      <td>Blues</td>\n",
       "      <td>453.42</td>\n",
       "    </tr>\n",
       "    <tr>\n",
       "      <th>2</th>\n",
       "      <td>3310</td>\n",
       "      <td>Hip Hop/Rap</td>\n",
       "      <td>366.30</td>\n",
       "    </tr>\n",
       "    <tr>\n",
       "      <th>3</th>\n",
       "      <td>3255</td>\n",
       "      <td>Pop</td>\n",
       "      <td>201.96</td>\n",
       "    </tr>\n",
       "  </tbody>\n",
       "</table>\n",
       "</div>"
      ],
      "text/plain": [
       "   track_id          genre_name    total\n",
       "0      2327  Alternative & Punk  1234.53\n",
       "1       896               Blues   453.42\n",
       "2      3310         Hip Hop/Rap   366.30\n",
       "3      3255                 Pop   201.96"
      ]
     },
     "execution_count": 7,
     "metadata": {},
     "output_type": "execute_result"
    }
   ],
   "source": [
    "#collapse-hide\n",
    "#Final results\n",
    "q1_sq1 = '''\n",
    "        WITH sq1 AS \n",
    "        \n",
    "            (\n",
    "            SELECT\n",
    "            invl.track_id track_id,\n",
    "            inv.total total_USA\n",
    "            FROM customer c\n",
    "            LEFT JOIN invoice inv ON c.customer_id = inv.customer_id\n",
    "            LEFT JOIN invoice_line invl ON invl.invoice_id = inv.invoice_id\n",
    "            WHERE c.country = \"USA\"\n",
    "                    ),\n",
    "                    \n",
    "            sq2 AS \n",
    "            \n",
    "                (\n",
    "               SELECT \n",
    "               t.track_id,\n",
    "               g.name genre_name\n",
    "               FROM genre g\n",
    "               LEFT JOIN track t ON t.genre_id = g.genre_id\n",
    "               WHERE genre_name IN ('Hip Hop/Rap','Alternative & Punk','Pop','Blues')\n",
    "                )\n",
    "                \n",
    "            SELECT \n",
    "            sq1.track_id,\n",
    "            sq2.genre_name,\n",
    "            SUM(sq1.total_USA) total\n",
    "            FROM sq1\n",
    "            INNER JOIN sq2 ON sq2.track_id = sq1.track_id\n",
    "            GROUP BY genre_name\n",
    "            ORDER BY total DESC\n",
    " '''\n",
    "final_results = run_query(q1_sq1)\n",
    "\n",
    "print('the final query table is:')\n",
    "final_results"
   ]
  },
  {
   "cell_type": "markdown",
   "metadata": {},
   "source": [
    "It is useful to include a column with the total purchased for each genre in percetage of the total purchased in the USA for all genres. Thus, a new column is introduced by applying the following equation:\n",
    "\n",
    "\n",
    "$total(percent) = \\frac{total}{sumtotal}$"
   ]
  },
  {
   "cell_type": "code",
   "execution_count": 8,
   "metadata": {
    "collapsed": false,
    "jupyter": {
     "outputs_hidden": false
    }
   },
   "outputs": [
    {
     "data": {
      "text/html": [
       "<div>\n",
       "<style scoped>\n",
       "    .dataframe tbody tr th:only-of-type {\n",
       "        vertical-align: middle;\n",
       "    }\n",
       "\n",
       "    .dataframe tbody tr th {\n",
       "        vertical-align: top;\n",
       "    }\n",
       "\n",
       "    .dataframe thead th {\n",
       "        text-align: right;\n",
       "    }\n",
       "</style>\n",
       "<table border=\"1\" class=\"dataframe\">\n",
       "  <thead>\n",
       "    <tr style=\"text-align: right;\">\n",
       "      <th></th>\n",
       "      <th>track_id</th>\n",
       "      <th>total</th>\n",
       "      <th>total_%</th>\n",
       "    </tr>\n",
       "    <tr>\n",
       "      <th>genre_name</th>\n",
       "      <th></th>\n",
       "      <th></th>\n",
       "      <th></th>\n",
       "    </tr>\n",
       "  </thead>\n",
       "  <tbody>\n",
       "    <tr>\n",
       "      <th>Alternative &amp; Punk</th>\n",
       "      <td>2327</td>\n",
       "      <td>1234.53</td>\n",
       "      <td>11.863762</td>\n",
       "    </tr>\n",
       "    <tr>\n",
       "      <th>Blues</th>\n",
       "      <td>896</td>\n",
       "      <td>453.42</td>\n",
       "      <td>4.357340</td>\n",
       "    </tr>\n",
       "    <tr>\n",
       "      <th>Hip Hop/Rap</th>\n",
       "      <td>3310</td>\n",
       "      <td>366.30</td>\n",
       "      <td>3.520122</td>\n",
       "    </tr>\n",
       "    <tr>\n",
       "      <th>Pop</th>\n",
       "      <td>3255</td>\n",
       "      <td>201.96</td>\n",
       "      <td>1.940824</td>\n",
       "    </tr>\n",
       "  </tbody>\n",
       "</table>\n",
       "</div>"
      ],
      "text/plain": [
       "                    track_id    total    total_%\n",
       "genre_name                                      \n",
       "Alternative & Punk      2327  1234.53  11.863762\n",
       "Blues                    896   453.42   4.357340\n",
       "Hip Hop/Rap             3310   366.30   3.520122\n",
       "Pop                     3255   201.96   1.940824"
      ]
     },
     "execution_count": 8,
     "metadata": {},
     "output_type": "execute_result"
    }
   ],
   "source": [
    "final_results_perc = final_results.copy()\n",
    "final_results_perc['total_%'] = final_results_perc['total']/sum_total*100\n",
    "final_results_perc.set_index('genre_name',inplace=True)\n",
    "final_results_perc"
   ]
  },
  {
   "cell_type": "markdown",
   "metadata": {},
   "source": [
    "## 3. Answering our question.\n",
    "\n",
    "* The question can be answered using the final query table. However, we can say that this result could be part of a report in which the graphical display of information is very desirable. In this way, we can plot a bar chart displaying the results arised from question 1 as following:"
   ]
  },
  {
   "cell_type": "code",
   "execution_count": 20,
   "metadata": {
    "collapsed": false,
    "jupyter": {
     "outputs_hidden": false
    }
   },
   "outputs": [
    {
     "data": {
      "image/png": "[encoded data removed]",
      "text/plain": [
       "<matplotlib.figure.Figure at 0x7fe6215d1fd0>"
      ]
     },
     "metadata": {},
     "output_type": "display_data"
    }
   ],
   "source": [
    "%matplotlib inline\n",
    "a = final_results_perc.plot(kind='barh',\n",
    "                        y='total_%',\n",
    "                        colormap=plt.cm.Accent,\n",
    "                        fontsize=14,\n",
    "                        legend = False\n",
    "                           )\n",
    "#a.set_title('Which genres include in the Chinook Store?',loc='left',fontdict={'fontsize':14},color='grey')\n",
    "a.set_xlabel('% purchased',fontsize=14)\n",
    "a.xaxis.set_label_position('top')\n",
    "a.set_ylabel('',fontsize=14)\n",
    "a.xaxis.tick_top()\n",
    "a.spines['right'].set_visible(False)\n",
    "a.spines['bottom'].set_visible(False)\n",
    "a.spines['left'].set_visible(False)\n",
    "a.tick_params(axis='both', which='major',bottom='off',top = 'off',left='off',right='off')"
   ]
  },
  {
   "cell_type": "markdown",
   "metadata": {},
   "source": [
    "## Conclusions"
   ]
  },
  {
   "cell_type": "markdown",
   "metadata": {},
   "source": [
    "We framed the problem to be solved and mapped two possible solutions. Then, we pick up one that can give us an answer. However, it left several aspects behind that were briefly discussed."
   ]
  }
 ],
 "metadata": {
  "kernelspec": {
   "display_name": "Python 3",
   "language": "python",
   "name": "python3"
  },
  "language_info": {
   "codemirror_mode": {
    "name": "ipython",
    "version": 3
   },
   "file_extension": ".py",
   "mimetype": "text/x-python",
   "name": "python",
   "nbconvert_exporter": "python",
   "pygments_lexer": "ipython3",
   "version": "3.7.4"
  },
  "toc": {
   "base_numbering": 1,
   "nav_menu": {},
   "number_sections": true,
   "sideBar": true,
   "skip_h1_title": false,
   "title_cell": "Table of Contents",
   "title_sidebar": "Contents",
   "toc_cell": false,
   "toc_position": {},
   "toc_section_display": true,
   "toc_window_display": false
  }
 },
 "nbformat": 4,
 "nbformat_minor": 4
}
